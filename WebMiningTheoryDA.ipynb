{
  "nbformat": 4,
  "nbformat_minor": 0,
  "metadata": {
    "colab": {
      "name": "WebMiningTheoryDA.ipynb",
      "provenance": []
    },
    "kernelspec": {
      "name": "python3",
      "display_name": "Python 3"
    },
    "language_info": {
      "name": "python"
    }
  },
  "cells": [
    {
      "cell_type": "markdown",
      "source": [
        "# Web Mining Digital Assignment\n",
        "\n",
        "Domain: Facebook"
      ],
      "metadata": {
        "id": "mtWihuTN0oOD"
      }
    },
    {
      "cell_type": "markdown",
      "source": [
        "### Classification"
      ],
      "metadata": {
        "id": "x2U4X8EN0waN"
      }
    },
    {
      "cell_type": "markdown",
      "source": [
        "Step 1: Import statements"
      ],
      "metadata": {
        "id": "aKPCPNWIr1v7"
      }
    },
    {
      "cell_type": "code",
      "execution_count": 1,
      "metadata": {
        "id": "y_A5FDuMp--d"
      },
      "outputs": [],
      "source": [
        "import numpy as np\n",
        "import pandas as pd\n",
        "import matplotlib.pyplot as plt"
      ]
    },
    {
      "cell_type": "markdown",
      "source": [
        "Step 2: Define functions"
      ],
      "metadata": {
        "id": "cTPnmjxYrxz0"
      }
    },
    {
      "cell_type": "code",
      "source": [
        "from sklearn.datasets import load_files"
      ],
      "metadata": {
        "id": "HpbJgGzTrIvU"
      },
      "execution_count": 2,
      "outputs": []
    },
    {
      "cell_type": "code",
      "source": [
        "def load_train_data():\n",
        "  \n",
        "  train_data = pd.read_csv('train.csv', header=0)\n",
        "\n",
        "  X_train = train_data.drop(columns='fake')\n",
        "  Y_train = train_data['fake']\n",
        "\n",
        "  return X_train, Y_train"
      ],
      "metadata": {
        "id": "njkQyHgOsAti"
      },
      "execution_count": 3,
      "outputs": []
    },
    {
      "cell_type": "code",
      "source": [
        "def load_test_data():\n",
        "\n",
        "  test_data = pd.read_csv('test.csv', header=0)\n",
        "\n",
        "  X_test = test_data.drop(columns='fake')\n",
        "  Y_test = test_data['fake']\n",
        "\n",
        "  return X_test, Y_test"
      ],
      "metadata": {
        "id": "DlDcYpMoste2"
      },
      "execution_count": 4,
      "outputs": []
    },
    {
      "cell_type": "code",
      "source": [
        "from sklearn.model_selection import cross_validate\n",
        "\n",
        "\n",
        "def get_classifier_cv_score(model, X, y, scoring='accuracy', cv=7):\n",
        "    \n",
        "    scores = cross_validate(model, X, y, cv=cv, scoring=scoring, return_train_score=True)\n",
        "    train_scores = scores['train_score']\n",
        "    val_scores = scores['test_score']\n",
        "    \n",
        "    train_mean = np.mean(train_scores)\n",
        "    val_mean = np.mean(val_scores)\n",
        "    \n",
        "    return train_mean, val_mean"
      ],
      "metadata": {
        "id": "Jhh6jgBdtO7e"
      },
      "execution_count": 5,
      "outputs": []
    },
    {
      "cell_type": "code",
      "source": [
        "def print_grid_search_result(grid_search):\n",
        "    \n",
        "    print(grid_search.best_params_)\n",
        "    \n",
        "    best_train = grid_search.cv_results_[\"mean_train_score\"][grid_search.best_index_]\n",
        "    print(\"best mean_train_score: {:.3f}\".format(best_train))\n",
        "        \n",
        "    best_test = grid_search.cv_results_[\"mean_test_score\"][grid_search.best_index_]\n",
        "    print(\"best mean_test_score: {:.3f}\".format(best_test))"
      ],
      "metadata": {
        "id": "rx0bhMvhtgmA"
      },
      "execution_count": 6,
      "outputs": []
    },
    {
      "cell_type": "markdown",
      "source": [
        "Step 3: Call function to load data"
      ],
      "metadata": {
        "id": "fU-dfZ1vt2Mo"
      }
    },
    {
      "cell_type": "code",
      "source": [
        "X_data, y_data = load_train_data()\n",
        "print(X_data.info())"
      ],
      "metadata": {
        "colab": {
          "base_uri": "https://localhost:8080/"
        },
        "id": "popDccnMt0IZ",
        "outputId": "c70ebe16-5f3b-412d-df05-ef1af6328068"
      },
      "execution_count": 7,
      "outputs": [
        {
          "output_type": "stream",
          "name": "stdout",
          "text": [
            "<class 'pandas.core.frame.DataFrame'>\n",
            "RangeIndex: 576 entries, 0 to 575\n",
            "Data columns (total 11 columns):\n",
            " #   Column                Non-Null Count  Dtype  \n",
            "---  ------                --------------  -----  \n",
            " 0   profile pic           576 non-null    int64  \n",
            " 1   nums/length username  576 non-null    float64\n",
            " 2   fullname words        576 non-null    int64  \n",
            " 3   nums/length fullname  576 non-null    float64\n",
            " 4   name==username        576 non-null    int64  \n",
            " 5   description length    576 non-null    int64  \n",
            " 6   external URL          576 non-null    int64  \n",
            " 7   private               576 non-null    int64  \n",
            " 8   #posts                576 non-null    int64  \n",
            " 9   #followers            576 non-null    int64  \n",
            " 10  #follows              576 non-null    int64  \n",
            "dtypes: float64(2), int64(9)\n",
            "memory usage: 49.6 KB\n",
            "None\n"
          ]
        }
      ]
    },
    {
      "cell_type": "code",
      "source": [
        "X_data.head()"
      ],
      "metadata": {
        "colab": {
          "base_uri": "https://localhost:8080/",
          "height": 288
        },
        "id": "LAYDgc99uBII",
        "outputId": "36164ded-b2ac-4ae6-e115-7ad1e7c14f72"
      },
      "execution_count": 8,
      "outputs": [
        {
          "output_type": "execute_result",
          "data": {
            "text/plain": [
              "   profile pic  nums/length username  fullname words  nums/length fullname  \\\n",
              "0            1                  0.27               0                   0.0   \n",
              "1            1                  0.00               2                   0.0   \n",
              "2            1                  0.10               2                   0.0   \n",
              "3            1                  0.00               1                   0.0   \n",
              "4            1                  0.00               2                   0.0   \n",
              "\n",
              "   name==username  description length  external URL  private  #posts  \\\n",
              "0               0                  53             0        0      32   \n",
              "1               0                  44             0        0     286   \n",
              "2               0                   0             0        1      13   \n",
              "3               0                  82             0        0     679   \n",
              "4               0                   0             0        1       6   \n",
              "\n",
              "   #followers  #follows  \n",
              "0        1000       955  \n",
              "1        2740       533  \n",
              "2         159        98  \n",
              "3         414       651  \n",
              "4         151       126  "
            ],
            "text/html": [
              "\n",
              "  <div id=\"df-8ccc366b-4fb5-4eee-8566-e624775149ee\">\n",
              "    <div class=\"colab-df-container\">\n",
              "      <div>\n",
              "<style scoped>\n",
              "    .dataframe tbody tr th:only-of-type {\n",
              "        vertical-align: middle;\n",
              "    }\n",
              "\n",
              "    .dataframe tbody tr th {\n",
              "        vertical-align: top;\n",
              "    }\n",
              "\n",
              "    .dataframe thead th {\n",
              "        text-align: right;\n",
              "    }\n",
              "</style>\n",
              "<table border=\"1\" class=\"dataframe\">\n",
              "  <thead>\n",
              "    <tr style=\"text-align: right;\">\n",
              "      <th></th>\n",
              "      <th>profile pic</th>\n",
              "      <th>nums/length username</th>\n",
              "      <th>fullname words</th>\n",
              "      <th>nums/length fullname</th>\n",
              "      <th>name==username</th>\n",
              "      <th>description length</th>\n",
              "      <th>external URL</th>\n",
              "      <th>private</th>\n",
              "      <th>#posts</th>\n",
              "      <th>#followers</th>\n",
              "      <th>#follows</th>\n",
              "    </tr>\n",
              "  </thead>\n",
              "  <tbody>\n",
              "    <tr>\n",
              "      <th>0</th>\n",
              "      <td>1</td>\n",
              "      <td>0.27</td>\n",
              "      <td>0</td>\n",
              "      <td>0.0</td>\n",
              "      <td>0</td>\n",
              "      <td>53</td>\n",
              "      <td>0</td>\n",
              "      <td>0</td>\n",
              "      <td>32</td>\n",
              "      <td>1000</td>\n",
              "      <td>955</td>\n",
              "    </tr>\n",
              "    <tr>\n",
              "      <th>1</th>\n",
              "      <td>1</td>\n",
              "      <td>0.00</td>\n",
              "      <td>2</td>\n",
              "      <td>0.0</td>\n",
              "      <td>0</td>\n",
              "      <td>44</td>\n",
              "      <td>0</td>\n",
              "      <td>0</td>\n",
              "      <td>286</td>\n",
              "      <td>2740</td>\n",
              "      <td>533</td>\n",
              "    </tr>\n",
              "    <tr>\n",
              "      <th>2</th>\n",
              "      <td>1</td>\n",
              "      <td>0.10</td>\n",
              "      <td>2</td>\n",
              "      <td>0.0</td>\n",
              "      <td>0</td>\n",
              "      <td>0</td>\n",
              "      <td>0</td>\n",
              "      <td>1</td>\n",
              "      <td>13</td>\n",
              "      <td>159</td>\n",
              "      <td>98</td>\n",
              "    </tr>\n",
              "    <tr>\n",
              "      <th>3</th>\n",
              "      <td>1</td>\n",
              "      <td>0.00</td>\n",
              "      <td>1</td>\n",
              "      <td>0.0</td>\n",
              "      <td>0</td>\n",
              "      <td>82</td>\n",
              "      <td>0</td>\n",
              "      <td>0</td>\n",
              "      <td>679</td>\n",
              "      <td>414</td>\n",
              "      <td>651</td>\n",
              "    </tr>\n",
              "    <tr>\n",
              "      <th>4</th>\n",
              "      <td>1</td>\n",
              "      <td>0.00</td>\n",
              "      <td>2</td>\n",
              "      <td>0.0</td>\n",
              "      <td>0</td>\n",
              "      <td>0</td>\n",
              "      <td>0</td>\n",
              "      <td>1</td>\n",
              "      <td>6</td>\n",
              "      <td>151</td>\n",
              "      <td>126</td>\n",
              "    </tr>\n",
              "  </tbody>\n",
              "</table>\n",
              "</div>\n",
              "      <button class=\"colab-df-convert\" onclick=\"convertToInteractive('df-8ccc366b-4fb5-4eee-8566-e624775149ee')\"\n",
              "              title=\"Convert this dataframe to an interactive table.\"\n",
              "              style=\"display:none;\">\n",
              "        \n",
              "  <svg xmlns=\"http://www.w3.org/2000/svg\" height=\"24px\"viewBox=\"0 0 24 24\"\n",
              "       width=\"24px\">\n",
              "    <path d=\"M0 0h24v24H0V0z\" fill=\"none\"/>\n",
              "    <path d=\"M18.56 5.44l.94 2.06.94-2.06 2.06-.94-2.06-.94-.94-2.06-.94 2.06-2.06.94zm-11 1L8.5 8.5l.94-2.06 2.06-.94-2.06-.94L8.5 2.5l-.94 2.06-2.06.94zm10 10l.94 2.06.94-2.06 2.06-.94-2.06-.94-.94-2.06-.94 2.06-2.06.94z\"/><path d=\"M17.41 7.96l-1.37-1.37c-.4-.4-.92-.59-1.43-.59-.52 0-1.04.2-1.43.59L10.3 9.45l-7.72 7.72c-.78.78-.78 2.05 0 2.83L4 21.41c.39.39.9.59 1.41.59.51 0 1.02-.2 1.41-.59l7.78-7.78 2.81-2.81c.8-.78.8-2.07 0-2.86zM5.41 20L4 18.59l7.72-7.72 1.47 1.35L5.41 20z\"/>\n",
              "  </svg>\n",
              "      </button>\n",
              "      \n",
              "  <style>\n",
              "    .colab-df-container {\n",
              "      display:flex;\n",
              "      flex-wrap:wrap;\n",
              "      gap: 12px;\n",
              "    }\n",
              "\n",
              "    .colab-df-convert {\n",
              "      background-color: #E8F0FE;\n",
              "      border: none;\n",
              "      border-radius: 50%;\n",
              "      cursor: pointer;\n",
              "      display: none;\n",
              "      fill: #1967D2;\n",
              "      height: 32px;\n",
              "      padding: 0 0 0 0;\n",
              "      width: 32px;\n",
              "    }\n",
              "\n",
              "    .colab-df-convert:hover {\n",
              "      background-color: #E2EBFA;\n",
              "      box-shadow: 0px 1px 2px rgba(60, 64, 67, 0.3), 0px 1px 3px 1px rgba(60, 64, 67, 0.15);\n",
              "      fill: #174EA6;\n",
              "    }\n",
              "\n",
              "    [theme=dark] .colab-df-convert {\n",
              "      background-color: #3B4455;\n",
              "      fill: #D2E3FC;\n",
              "    }\n",
              "\n",
              "    [theme=dark] .colab-df-convert:hover {\n",
              "      background-color: #434B5C;\n",
              "      box-shadow: 0px 1px 3px 1px rgba(0, 0, 0, 0.15);\n",
              "      filter: drop-shadow(0px 1px 2px rgba(0, 0, 0, 0.3));\n",
              "      fill: #FFFFFF;\n",
              "    }\n",
              "  </style>\n",
              "\n",
              "      <script>\n",
              "        const buttonEl =\n",
              "          document.querySelector('#df-8ccc366b-4fb5-4eee-8566-e624775149ee button.colab-df-convert');\n",
              "        buttonEl.style.display =\n",
              "          google.colab.kernel.accessAllowed ? 'block' : 'none';\n",
              "\n",
              "        async function convertToInteractive(key) {\n",
              "          const element = document.querySelector('#df-8ccc366b-4fb5-4eee-8566-e624775149ee');\n",
              "          const dataTable =\n",
              "            await google.colab.kernel.invokeFunction('convertToInteractive',\n",
              "                                                     [key], {});\n",
              "          if (!dataTable) return;\n",
              "\n",
              "          const docLinkHtml = 'Like what you see? Visit the ' +\n",
              "            '<a target=\"_blank\" href=https://colab.research.google.com/notebooks/data_table.ipynb>data table notebook</a>'\n",
              "            + ' to learn more about interactive tables.';\n",
              "          element.innerHTML = '';\n",
              "          dataTable['output_type'] = 'display_data';\n",
              "          await google.colab.output.renderOutput(dataTable, element);\n",
              "          const docLink = document.createElement('div');\n",
              "          docLink.innerHTML = docLinkHtml;\n",
              "          element.appendChild(docLink);\n",
              "        }\n",
              "      </script>\n",
              "    </div>\n",
              "  </div>\n",
              "  "
            ]
          },
          "metadata": {},
          "execution_count": 8
        }
      ]
    },
    {
      "cell_type": "code",
      "source": [
        "print(\"Size: \",X_data.shape, \", Type: \", type(X_data))\n",
        "print(\"Size: \",y_data.shape, \", Type: \", type(y_data))"
      ],
      "metadata": {
        "colab": {
          "base_uri": "https://localhost:8080/"
        },
        "id": "BQbL958zuFnh",
        "outputId": "aefee1a6-596d-40b5-a651-040bfb8d962b"
      },
      "execution_count": 9,
      "outputs": [
        {
          "output_type": "stream",
          "name": "stdout",
          "text": [
            "Size:  (576, 11) , Type:  <class 'pandas.core.frame.DataFrame'>\n",
            "Size:  (576,) , Type:  <class 'pandas.core.series.Series'>\n"
          ]
        }
      ]
    },
    {
      "cell_type": "markdown",
      "source": [
        "Step 4: Inspect the data"
      ],
      "metadata": {
        "id": "f_u2s19JubtP"
      }
    },
    {
      "cell_type": "markdown",
      "source": [
        "We're going to check if there are any missing values in this dataset"
      ],
      "metadata": {
        "id": "tRPfMmLpugpp"
      }
    },
    {
      "cell_type": "code",
      "source": [
        "print(X_data.isnull().sum())"
      ],
      "metadata": {
        "colab": {
          "base_uri": "https://localhost:8080/"
        },
        "id": "wBReUhweuZvh",
        "outputId": "77c5652b-df57-41bc-a238-67b174f88709"
      },
      "execution_count": 10,
      "outputs": [
        {
          "output_type": "stream",
          "name": "stdout",
          "text": [
            "profile pic             0\n",
            "nums/length username    0\n",
            "fullname words          0\n",
            "nums/length fullname    0\n",
            "name==username          0\n",
            "description length      0\n",
            "external URL            0\n",
            "private                 0\n",
            "#posts                  0\n",
            "#followers              0\n",
            "#follows                0\n",
            "dtype: int64\n"
          ]
        }
      ]
    },
    {
      "cell_type": "markdown",
      "source": [
        "There are no missing values, thus the dataset does not need to be modified"
      ],
      "metadata": {
        "id": "wwcZ1_reumza"
      }
    },
    {
      "cell_type": "markdown",
      "source": [
        "Step 5: Create test and train datasets"
      ],
      "metadata": {
        "id": "1FA72aoturhP"
      }
    },
    {
      "cell_type": "code",
      "source": [
        "from sklearn.model_selection import train_test_split\n",
        "X_train, X_test, y_train, y_test = train_test_split(X_data, y_data, test_size=0.2, random_state=37)"
      ],
      "metadata": {
        "id": "76k1ib_jurMK"
      },
      "execution_count": 11,
      "outputs": []
    },
    {
      "cell_type": "code",
      "source": [
        "print(X_train.shape)\n",
        "print(y_train.shape)"
      ],
      "metadata": {
        "colab": {
          "base_uri": "https://localhost:8080/"
        },
        "id": "iw0EjFpzulqf",
        "outputId": "75a91e96-9356-4d49-d5d6-d5e8f4bbfdb9"
      },
      "execution_count": 12,
      "outputs": [
        {
          "output_type": "stream",
          "name": "stdout",
          "text": [
            "(460, 11)\n",
            "(460,)\n"
          ]
        }
      ]
    },
    {
      "cell_type": "markdown",
      "source": [
        "Step 6: Compare models using Cross Validation"
      ],
      "metadata": {
        "id": "Yv8JOZVVvTkq"
      }
    },
    {
      "cell_type": "code",
      "source": [
        "from sklearn.linear_model import LogisticRegression\n",
        "from sklearn.ensemble import RandomForestClassifier, GradientBoostingClassifier\n",
        "from sklearn.svm import SVC\n",
        "from sklearn.naive_bayes import GaussianNB\n",
        "\n",
        "model_list = [LogisticRegression(max_iter=600),\n",
        "              SVC(), \n",
        "              GaussianNB(),\n",
        "              RandomForestClassifier(random_state=55),\n",
        "              GradientBoostingClassifier(random_state=56)]\n",
        "\n",
        "train_scores = []\n",
        "val_scores = []\n",
        "\n",
        "for model in model_list:\n",
        "    train, val = get_classifier_cv_score(model, X_train, y_train,'average_precision')\n",
        "    train_scores.append(train)\n",
        "    val_scores.append(val)\n",
        "    \n",
        "models_score = sorted(list(zip(val_scores, train_scores, model_list)), reverse=True)\n",
        "\n",
        "print(\"-------------------------------------\")\n",
        "for val, train, model in models_score:\n",
        "    print(\"Model: {} \".format(model.__class__.__name__))\n",
        "\n",
        "    print(\"train_score: {:.3f}\".format(train)) \n",
        "\n",
        "    print(\"validation_score: {:.3f}\".format(val)) \n",
        "\n",
        "    print(\"-------------------------------------\")"
      ],
      "metadata": {
        "colab": {
          "base_uri": "https://localhost:8080/"
        },
        "id": "pTqPcF7ZvR7B",
        "outputId": "2ac6d321-98e5-498f-dc7f-46b22933ff81"
      },
      "execution_count": 13,
      "outputs": [
        {
          "output_type": "stream",
          "name": "stdout",
          "text": [
            "-------------------------------------\n",
            "Model: RandomForestClassifier \n",
            "train_score: 1.000\n",
            "validation_score: 0.984\n",
            "-------------------------------------\n",
            "Model: GradientBoostingClassifier \n",
            "train_score: 1.000\n",
            "validation_score: 0.979\n",
            "-------------------------------------\n",
            "Model: LogisticRegression \n",
            "train_score: 0.981\n",
            "validation_score: 0.975\n",
            "-------------------------------------\n",
            "Model: SVC \n",
            "train_score: 0.929\n",
            "validation_score: 0.928\n",
            "-------------------------------------\n",
            "Model: GaussianNB \n",
            "train_score: 0.804\n",
            "validation_score: 0.821\n",
            "-------------------------------------\n"
          ]
        }
      ]
    },
    {
      "cell_type": "markdown",
      "source": [
        "Clearly, the two best models are RandomForestClassifier and GradientBoostingClassifier. Thus, we are going to use these two models."
      ],
      "metadata": {
        "id": "Bvqhxg4MwF-I"
      }
    },
    {
      "cell_type": "markdown",
      "source": [
        "Step 7: Hyperparameter Tuning Using Grid Search"
      ],
      "metadata": {
        "id": "qYY5tquvwTbm"
      }
    },
    {
      "cell_type": "markdown",
      "source": [
        "Step 7.1: Grid Search for RandomForestClassifier."
      ],
      "metadata": {
        "id": "gI45pOI6wurr"
      }
    },
    {
      "cell_type": "code",
      "source": [
        "from sklearn.model_selection import GridSearchCV\n",
        "\n",
        "model = RandomForestClassifier(random_state=55)\n",
        "\n",
        "parameters = {'n_estimators': [300, 500, 700, 1000],\n",
        "              'max_depth': [7, 9, 11, 13]}\n",
        "\n",
        "grid1 = GridSearchCV(model, parameters, cv=7, scoring='average_precision',return_train_score=True)"
      ],
      "metadata": {
        "id": "gKC60p2-wAYq"
      },
      "execution_count": 14,
      "outputs": []
    },
    {
      "cell_type": "code",
      "source": [
        "grid1.fit(X_train, y_train)"
      ],
      "metadata": {
        "colab": {
          "base_uri": "https://localhost:8080/"
        },
        "id": "aY-ZP3yYxOCL",
        "outputId": "7c47c83b-ed57-4212-a2f7-3a806147cf3e"
      },
      "execution_count": 15,
      "outputs": [
        {
          "output_type": "execute_result",
          "data": {
            "text/plain": [
              "GridSearchCV(cv=7, estimator=RandomForestClassifier(random_state=55),\n",
              "             param_grid={'max_depth': [7, 9, 11, 13],\n",
              "                         'n_estimators': [300, 500, 700, 1000]},\n",
              "             return_train_score=True, scoring='average_precision')"
            ]
          },
          "metadata": {},
          "execution_count": 15
        }
      ]
    },
    {
      "cell_type": "code",
      "source": [
        "print_grid_search_result(grid1)"
      ],
      "metadata": {
        "colab": {
          "base_uri": "https://localhost:8080/"
        },
        "id": "4AMw7VQ5xRHy",
        "outputId": "4f7225eb-1499-4a5c-e8a6-5418660e2f82"
      },
      "execution_count": 16,
      "outputs": [
        {
          "output_type": "stream",
          "name": "stdout",
          "text": [
            "{'max_depth': 7, 'n_estimators': 700}\n",
            "best mean_train_score: 1.000\n",
            "best mean_test_score: 0.985\n"
          ]
        }
      ]
    },
    {
      "cell_type": "markdown",
      "source": [
        "Step 7.2: Grid Search for Gradient Boosting Classifier."
      ],
      "metadata": {
        "id": "w17NEcXJyBaq"
      }
    },
    {
      "cell_type": "code",
      "source": [
        "model = GradientBoostingClassifier(max_depth=5, random_state=56)\n",
        "\n",
        "parameters = {'n_estimators': [50, 100, 200],\n",
        "              'learning_rate': [0.001, 0.01, 0.1, 1.0, 10.0]}\n",
        "\n",
        "grid2 = GridSearchCV(model, parameters, cv=7, scoring='average_precision', return_train_score=True)"
      ],
      "metadata": {
        "id": "tvWPEkvix3EE"
      },
      "execution_count": 17,
      "outputs": []
    },
    {
      "cell_type": "code",
      "source": [
        "grid2.fit(X_train, y_train)"
      ],
      "metadata": {
        "colab": {
          "base_uri": "https://localhost:8080/"
        },
        "id": "OXn3whh4yNQW",
        "outputId": "7e17e0af-8a04-4b28-acf0-1919d499a082"
      },
      "execution_count": 18,
      "outputs": [
        {
          "output_type": "execute_result",
          "data": {
            "text/plain": [
              "GridSearchCV(cv=7,\n",
              "             estimator=GradientBoostingClassifier(max_depth=5, random_state=56),\n",
              "             param_grid={'learning_rate': [0.001, 0.01, 0.1, 1.0, 10.0],\n",
              "                         'n_estimators': [50, 100, 200]},\n",
              "             return_train_score=True, scoring='average_precision')"
            ]
          },
          "metadata": {},
          "execution_count": 18
        }
      ]
    },
    {
      "cell_type": "code",
      "source": [
        "print_grid_search_result(grid2)"
      ],
      "metadata": {
        "colab": {
          "base_uri": "https://localhost:8080/"
        },
        "id": "86Uas4Z0ySEJ",
        "outputId": "15891b9d-0fdb-418a-dfc2-4c90d6baa5b7"
      },
      "execution_count": 19,
      "outputs": [
        {
          "output_type": "stream",
          "name": "stdout",
          "text": [
            "{'learning_rate': 1.0, 'n_estimators': 50}\n",
            "best mean_train_score: 1.000\n",
            "best mean_test_score: 0.981\n"
          ]
        }
      ]
    },
    {
      "cell_type": "markdown",
      "source": [
        "Step 8: Making predictions\n",
        "\n",
        "RandomForestClassifier performed better than Gradient Boosting Classifier, thus, we are going to use that to perform classification."
      ],
      "metadata": {
        "id": "b1BipKdJyi7U"
      }
    },
    {
      "cell_type": "code",
      "source": [
        "clf=RandomForestClassifier(n_estimators=700)\n",
        "\n",
        "clf.fit(X_train,y_train)\n",
        "\n",
        "y_pred=clf.predict(X_test)"
      ],
      "metadata": {
        "id": "T1YjanPOyhDR"
      },
      "execution_count": 20,
      "outputs": []
    },
    {
      "cell_type": "code",
      "source": [
        "from sklearn import metrics\n",
        "\n",
        "print(\"Accuracy:\",metrics.accuracy_score(y_test, y_pred))\n",
        "print(\"Precision:\",metrics.precision_score(y_test, y_pred))\n",
        "print(\"Recall:\",metrics.recall_score(y_test, y_pred))"
      ],
      "metadata": {
        "colab": {
          "base_uri": "https://localhost:8080/"
        },
        "id": "Rmizn668zh4u",
        "outputId": "3f768d6b-0ae9-4bb5-d27d-12fa40ac6c41"
      },
      "execution_count": 21,
      "outputs": [
        {
          "output_type": "stream",
          "name": "stdout",
          "text": [
            "Accuracy: 0.9224137931034483\n",
            "Precision: 0.9333333333333333\n",
            "Recall: 0.9180327868852459\n"
          ]
        }
      ]
    },
    {
      "cell_type": "markdown",
      "source": [
        "### Clustering"
      ],
      "metadata": {
        "id": "MsG-YnvZ01vL"
      }
    },
    {
      "cell_type": "markdown",
      "source": [
        "Step 1: Import statements"
      ],
      "metadata": {
        "id": "D0_HFlje6evr"
      }
    },
    {
      "cell_type": "code",
      "source": [
        "from sklearn.cluster import KMeans\n",
        "from sklearn.decomposition import PCA"
      ],
      "metadata": {
        "id": "ZwAda2DGzjLO"
      },
      "execution_count": 22,
      "outputs": []
    },
    {
      "cell_type": "markdown",
      "source": [
        "Step 2: Use PCA (Principal Component Analysis) to reduce the dimensionality of the data, to give us two columns to work with."
      ],
      "metadata": {
        "id": "XrsKx3Mb6nnp"
      }
    },
    {
      "cell_type": "code",
      "source": [
        "X_data_PCA = PCA(n_components=2).fit_transform(X_data)\n",
        "X_data_PCA"
      ],
      "metadata": {
        "colab": {
          "base_uri": "https://localhost:8080/"
        },
        "id": "T40dEPwC4atk",
        "outputId": "1f33d552-9b50-4d7d-930e-f1ac9adf7201"
      },
      "execution_count": 23,
      "outputs": [
        {
          "output_type": "execute_result",
          "data": {
            "text/plain": [
              "array([[-8.43072510e+04,  4.41895488e+02],\n",
              "       [-8.25672102e+04,  3.40655592e+01],\n",
              "       [-8.51482441e+04, -4.15354307e+02],\n",
              "       ...,\n",
              "       [-8.52112481e+04, -1.75194773e+02],\n",
              "       [-8.52502456e+04, -4.40911200e+02],\n",
              "       [-8.51572500e+04, -2.75215327e+01]])"
            ]
          },
          "metadata": {},
          "execution_count": 23
        }
      ]
    },
    {
      "cell_type": "markdown",
      "source": [
        "Step 3: Make prediction using KMeans and the PCA-fitted data"
      ],
      "metadata": {
        "id": "q0ezNIij68wS"
      }
    },
    {
      "cell_type": "code",
      "source": [
        "km=KMeans(n_clusters=2, random_state=0)\n",
        "y_cluster_predicted = km.fit_predict(X_data_PCA)\n",
        "y_cluster_predicted"
      ],
      "metadata": {
        "colab": {
          "base_uri": "https://localhost:8080/"
        },
        "id": "A4l1lyorzlRl",
        "outputId": "f2df9a5c-9742-456c-ab41-ab5468070238"
      },
      "execution_count": 24,
      "outputs": [
        {
          "output_type": "execute_result",
          "data": {
            "text/plain": [
              "array([0, 0, 0, 0, 0, 0, 0, 0, 0, 0, 0, 0, 0, 0, 0, 0, 0, 0, 0, 0, 0, 0,\n",
              "       0, 0, 1, 0, 0, 0, 0, 0, 0, 0, 0, 0, 0, 0, 0, 0, 0, 0, 0, 0, 0, 0,\n",
              "       1, 0, 0, 0, 0, 0, 0, 0, 0, 0, 0, 0, 0, 0, 0, 0, 0, 0, 0, 0, 0, 0,\n",
              "       0, 0, 0, 0, 0, 0, 0, 0, 0, 0, 0, 0, 0, 0, 0, 0, 0, 0, 0, 0, 0, 0,\n",
              "       0, 0, 0, 0, 0, 0, 0, 0, 0, 0, 0, 0, 0, 0, 0, 0, 0, 0, 0, 0, 0, 0,\n",
              "       0, 0, 0, 0, 0, 0, 0, 0, 0, 0, 0, 0, 0, 0, 0, 0, 0, 0, 0, 0, 0, 0,\n",
              "       0, 0, 0, 0, 0, 0, 0, 0, 0, 0, 0, 0, 0, 0, 0, 0, 0, 0, 0, 0, 0, 0,\n",
              "       0, 0, 0, 0, 0, 0, 0, 0, 0, 0, 0, 0, 0, 0, 0, 0, 0, 0, 0, 0, 0, 0,\n",
              "       0, 0, 0, 0, 0, 0, 1, 0, 0, 0, 0, 0, 0, 0, 0, 0, 0, 0, 0, 0, 0, 0,\n",
              "       0, 0, 0, 0, 0, 0, 0, 0, 0, 0, 0, 0, 0, 0, 0, 0, 0, 0, 0, 0, 0, 0,\n",
              "       0, 0, 0, 0, 0, 0, 0, 0, 0, 0, 0, 0, 0, 0, 0, 0, 0, 0, 0, 0, 0, 0,\n",
              "       0, 0, 0, 0, 0, 0, 0, 0, 0, 0, 0, 0, 0, 0, 0, 0, 0, 0, 0, 0, 0, 0,\n",
              "       0, 0, 0, 0, 0, 0, 0, 0, 0, 0, 0, 0, 0, 0, 0, 0, 0, 0, 0, 0, 0, 0,\n",
              "       0, 0, 0, 0, 0, 0, 0, 0, 0, 0, 0, 0, 0, 0, 0, 0, 0, 0, 0, 0, 0, 0,\n",
              "       0, 0, 0, 0, 0, 0, 0, 0, 0, 0, 0, 0, 0, 0, 0, 0, 0, 0, 0, 0, 0, 0,\n",
              "       0, 0, 0, 0, 0, 0, 0, 0, 0, 0, 0, 0, 0, 0, 0, 0, 0, 0, 0, 0, 0, 0,\n",
              "       0, 0, 0, 0, 0, 0, 0, 0, 0, 0, 0, 0, 0, 0, 0, 0, 0, 0, 0, 0, 0, 0,\n",
              "       0, 0, 0, 0, 0, 0, 0, 0, 0, 0, 0, 0, 0, 0, 0, 0, 0, 0, 0, 0, 0, 0,\n",
              "       0, 0, 0, 0, 0, 0, 0, 0, 0, 0, 0, 0, 0, 0, 0, 0, 0, 0, 0, 0, 0, 0,\n",
              "       0, 0, 0, 0, 0, 0, 0, 0, 0, 0, 0, 0, 0, 0, 0, 0, 0, 0, 0, 0, 0, 0,\n",
              "       0, 0, 0, 0, 0, 0, 0, 0, 0, 0, 0, 0, 0, 0, 0, 0, 0, 0, 0, 0, 0, 0,\n",
              "       0, 0, 0, 0, 0, 0, 0, 0, 0, 0, 0, 0, 0, 0, 0, 0, 0, 0, 0, 0, 0, 0,\n",
              "       0, 0, 0, 0, 0, 0, 0, 0, 0, 0, 0, 0, 0, 0, 0, 0, 0, 0, 0, 0, 0, 0,\n",
              "       0, 0, 0, 0, 0, 0, 0, 0, 0, 0, 0, 0, 0, 0, 0, 0, 0, 0, 0, 0, 0, 0,\n",
              "       0, 0, 0, 0, 0, 0, 0, 0, 0, 0, 0, 0, 0, 0, 0, 0, 0, 0, 0, 0, 0, 0,\n",
              "       0, 0, 0, 0, 0, 0, 0, 0, 0, 0, 0, 0, 0, 0, 0, 0, 0, 0, 0, 0, 0, 0,\n",
              "       0, 0, 0, 0], dtype=int32)"
            ]
          },
          "metadata": {},
          "execution_count": 24
        }
      ]
    },
    {
      "cell_type": "markdown",
      "source": [
        "Step 4: Display the cluster centers"
      ],
      "metadata": {
        "id": "SuoWE0oW7EQ_"
      }
    },
    {
      "cell_type": "code",
      "source": [
        "km.cluster_centers_"
      ],
      "metadata": {
        "colab": {
          "base_uri": "https://localhost:8080/"
        },
        "id": "ehqp0-GF2jrk",
        "outputId": "6e102dc8-6c68-4979-f76a-77fc30c69a9e"
      },
      "execution_count": 25,
      "outputs": [
        {
          "output_type": "execute_result",
          "data": {
            "text/plain": [
              "array([[-5.97236346e+04,  1.69786022e+00],\n",
              "       [ 1.14072142e+07, -3.24291302e+02]])"
            ]
          },
          "metadata": {},
          "execution_count": 25
        }
      ]
    },
    {
      "cell_type": "markdown",
      "source": [
        "Step 5: Visualize the clusters."
      ],
      "metadata": {
        "id": "lcU8dSEh7IKv"
      }
    },
    {
      "cell_type": "code",
      "source": [
        "plt_y = [\"blue\" if x == 0 else \"red\" for x in y_cluster_predicted]\n",
        "plt.scatter(X_data_PCA[:,0], X_data_PCA[:,1], c=plt_y)\n",
        "plt.scatter(km.cluster_centers_[:,0],km.cluster_centers_[:,1], c='lightgreen')"
      ],
      "metadata": {
        "colab": {
          "base_uri": "https://localhost:8080/",
          "height": 295
        },
        "id": "Qp5TLcRK3CQi",
        "outputId": "f207f1e7-7bca-4045-bcc1-a1768e12e645"
      },
      "execution_count": 26,
      "outputs": [
        {
          "output_type": "execute_result",
          "data": {
            "text/plain": [
              "<matplotlib.collections.PathCollection at 0x7fc194bd2dd0>"
            ]
          },
          "metadata": {},
          "execution_count": 26
        },
        {
          "output_type": "display_data",
          "data": {
            "text/plain": [
              "<Figure size 432x288 with 1 Axes>"
            ],
            "image/png": "[encoded data removed]"
          },
          "metadata": {
            "needs_background": "light"
          }
        }
      ]
    },
    {
      "cell_type": "code",
      "source": [
        ""
      ],
      "metadata": {
        "id": "q4WTsIq05jD4"
      },
      "execution_count": 26,
      "outputs": []
    }
  ]
}